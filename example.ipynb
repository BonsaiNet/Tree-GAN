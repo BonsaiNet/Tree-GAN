{
 "cells": [
  {
   "cell_type": "markdown",
   "metadata": {},
   "source": [
    "## Imports"
   ]
  },
  {
   "cell_type": "code",
   "execution_count": 1,
   "metadata": {
    "collapsed": false
   },
   "outputs": [
    {
     "name": "stderr",
     "output_type": "stream",
     "text": [
      "Using Theano backend.\n"
     ]
    }
   ],
   "source": [
    "import numpy as np\n",
    "import matplotlib.pyplot as plt\n",
    "\n",
    "%matplotlib inline\n",
    "\n",
    "# Local\n",
    "import Neuron\n",
    "import models as models\n",
    "import train as train\n",
    "import batch_utils\n",
    "import data_transforms\n",
    "import generate_training_data"
   ]
  },
  {
   "cell_type": "markdown",
   "metadata": {},
   "source": [
    "## Data"
   ]
  },
  {
   "cell_type": "code",
   "execution_count": 2,
   "metadata": {
    "collapsed": true
   },
   "outputs": [],
   "source": [
    "training_data = generate_training_data.y_shape(n_nodes=20, \n",
    "                                               data_size=1000, \n",
    "                                               first_length=10, \n",
    "                                               branching_node=6)"
   ]
  },
  {
   "cell_type": "markdown",
   "metadata": {},
   "source": [
    "## Global parameters"
   ]
  },
  {
   "cell_type": "code",
   "execution_count": 3,
   "metadata": {
    "collapsed": true
   },
   "outputs": [],
   "source": [
    "n_nodes = 20\n",
    "input_dim = 100\n",
    "n_epochs = 5\n",
    "batch_size = 32\n",
    "n_batch_per_epoch = np.floor(training_data['morphology']['n20'].shape[0]/batch_size).astype(int)\n",
    "d_iters = 20\n",
    "lr_discriminator =  0.001\n",
    "lr_generator = 0.001\n",
    "train_loss = 'binary_crossentropy'\n",
    "#train_loss = 'wasserstein_loss'\n",
    "\n",
    "rule = 'none'\n",
    "d_weight_constraint = [-.03, .03]\n",
    "g_weight_constraint = [-33.3, 33.3]\n",
    "m_weight_constraint = [-33.3, 33.3]"
   ]
  },
  {
   "cell_type": "markdown",
   "metadata": {},
   "source": [
    "# Run"
   ]
  },
  {
   "cell_type": "code",
   "execution_count": null,
   "metadata": {
    "collapsed": false
   },
   "outputs": [
    {
     "name": "stdout",
     "output_type": "stream",
     "text": [
      "____________________________________________________________________________________________________\n",
      "Layer (type)                     Output Shape          Param #     Connected to                     \n",
      "====================================================================================================\n",
      "input_1 (InputLayer)             (None, 19, 3)         0                                            \n",
      "____________________________________________________________________________________________________\n",
      "input_2 (InputLayer)             (None, 19, 20)        0                                            \n",
      "____________________________________________________________________________________________________\n",
      "merge_1 (Merge)                  (None, 19, 23)        0           input_1[0][0]                    \n",
      "                                                                   input_2[0][0]                    \n",
      "____________________________________________________________________________________________________\n",
      "lambda_1 (Lambda)                (None, 20, 103)       0           merge_1[0][0]                    \n",
      "____________________________________________________________________________________________________\n",
      "reshape_1 (Reshape)              (None, 1, 2060)       0           lambda_1[0][0]                   \n",
      "____________________________________________________________________________________________________\n",
      "dense_1 (Dense)                  (None, 1, 200)        412200      reshape_1[0][0]                  \n",
      "____________________________________________________________________________________________________\n",
      "dense_2 (Dense)                  (None, 1, 50)         10050       dense_1[0][0]                    \n",
      "____________________________________________________________________________________________________\n",
      "dense_3 (Dense)                  (None, 1, 10)         510         dense_2[0][0]                    \n",
      "____________________________________________________________________________________________________\n",
      "dense_4 (Dense)                  (None, 1, 1)          11          dense_3[0][0]                    \n",
      "====================================================================================================\n",
      "Total params: 422,771\n",
      "Trainable params: 422,771\n",
      "Non-trainable params: 0\n",
      "____________________________________________________________________________________________________\n",
      "____________________________________________________________________________________________________\n",
      "Layer (type)                     Output Shape          Param #     Connected to                     \n",
      "====================================================================================================\n",
      "noise_input (InputLayer)         (None, 1, 100)        0                                            \n",
      "____________________________________________________________________________________________________\n",
      "dense_5 (Dense)                  (None, 1, 100)        10100       noise_input[0][0]                \n",
      "____________________________________________________________________________________________________\n",
      "dense_6 (Dense)                  (None, 1, 100)        10100       dense_5[0][0]                    \n",
      "____________________________________________________________________________________________________\n",
      "dense_7 (Dense)                  (None, 1, 50)         5050        dense_6[0][0]                    \n",
      "____________________________________________________________________________________________________\n",
      "dense_8 (Dense)                  (None, 1, 57)         2907        dense_7[0][0]                    \n",
      "____________________________________________________________________________________________________\n",
      "reshape_2 (Reshape)              (None, 19, 3)         0           dense_8[0][0]                    \n",
      "====================================================================================================\n",
      "Total params: 28,157\n",
      "Trainable params: 28,157\n",
      "Non-trainable params: 0\n",
      "____________________________________________________________________________________________________\n",
      "____________________________________________________________________________________________________\n",
      "Layer (type)                     Output Shape          Param #     Connected to                     \n",
      "====================================================================================================\n",
      "noise_input (InputLayer)         (None, 1, 100)        0                                            \n",
      "____________________________________________________________________________________________________\n",
      "dense_9 (Dense)                  (None, 1, 100)        10100       noise_input[0][0]                \n",
      "____________________________________________________________________________________________________\n",
      "dense_10 (Dense)                 (None, 1, 100)        10100       dense_9[0][0]                    \n",
      "____________________________________________________________________________________________________\n",
      "dense_11 (Dense)                 (None, 1, 380)        38380       dense_10[0][0]                   \n",
      "____________________________________________________________________________________________________\n",
      "reshape_3 (Reshape)              (None, 19, 20)        0           dense_11[0][0]                   \n",
      "____________________________________________________________________________________________________\n",
      "lambda_2 (Lambda)                (None, 19, 20)        0           reshape_3[0][0]                  \n",
      "====================================================================================================\n",
      "Total params: 58,580\n",
      "Trainable params: 58,580\n",
      "Non-trainable params: 0\n",
      "____________________________________________________________________________________________________\n",
      "\n",
      "====================\n",
      "\n",
      "Epoch #0\n",
      "\n",
      "    After 20 iterations"
     ]
    }
   ],
   "source": [
    "geom_model, morph_model, disc_model, gan_model = \\\n",
    "    train.train_model(training_data=training_data,\n",
    "                      n_nodes=n_nodes,\n",
    "                      input_dim=input_dim,\n",
    "                      n_epochs=n_epochs,\n",
    "                      batch_size=batch_size,\n",
    "                      n_batch_per_epoch=n_batch_per_epoch,\n",
    "                      d_iters=d_iters,\n",
    "                      lr_discriminator=lr_discriminator,\n",
    "                      lr_generator=lr_generator,\n",
    "                      d_weight_constraint=d_weight_constraint,\n",
    "                      g_weight_constraint=g_weight_constraint,\n",
    "                      m_weight_constraint=m_weight_constraint,\n",
    "                      rule=rule,\n",
    "                      train_loss=train_loss,\n",
    "                      verbose=True)"
   ]
  },
  {
   "cell_type": "code",
   "execution_count": null,
   "metadata": {
    "collapsed": true
   },
   "outputs": [],
   "source": []
  }
 ],
 "metadata": {
  "kernelspec": {
   "display_name": "Python 2",
   "language": "python",
   "name": "python2"
  },
  "language_info": {
   "codemirror_mode": {
    "name": "ipython",
    "version": 2
   },
   "file_extension": ".py",
   "mimetype": "text/x-python",
   "name": "python",
   "nbconvert_exporter": "python",
   "pygments_lexer": "ipython2",
   "version": "2.7.12"
  }
 },
 "nbformat": 4,
 "nbformat_minor": 0
}
