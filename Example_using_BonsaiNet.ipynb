{
 "cells": [
  {
   "cell_type": "markdown",
   "metadata": {},
   "source": [
    "## Imports"
   ]
  },
  {
   "cell_type": "code",
   "execution_count": 1,
   "metadata": {
    "collapsed": false
   },
   "outputs": [
    {
     "name": "stderr",
     "output_type": "stream",
     "text": [
      "Using Theano backend.\n"
     ]
    }
   ],
   "source": [
    "import numpy as np\n",
    "import matplotlib.pyplot as plt\n",
    "\n",
    "%matplotlib inline\n",
    "\n",
    "# Local\n",
    "import Neuron\n",
    "import models as models\n",
    "import train as train\n",
    "import batch_utils\n",
    "import data_transforms\n",
    "import generating_models"
   ]
  },
  {
   "cell_type": "markdown",
   "metadata": {},
   "source": [
    "## Data"
   ]
  },
  {
   "cell_type": "code",
   "execution_count": null,
   "metadata": {
    "collapsed": false
   },
   "outputs": [],
   "source": [
    "training_data = generating_models.y_shape(n_nodes=20, \n",
    "                                          data_size=1000, \n",
    "                                          first_length=16, \n",
    "                                          branching_node=6)"
   ]
  },
  {
   "cell_type": "markdown",
   "metadata": {},
   "source": [
    "## Global parameters"
   ]
  },
  {
   "cell_type": "code",
   "execution_count": null,
   "metadata": {
    "collapsed": false
   },
   "outputs": [],
   "source": [
    "n_nodes = 20\n",
    "input_dim = 100\n",
    "n_epochs = 5\n",
    "batch_size = 32\n",
    "n_batch_per_epoch = np.floor(training_data['morphology']['n20'].shape[0]/batch_size).astype(int)\n",
    "d_iters = 20\n",
    "lr_discriminator =  0.001\n",
    "lr_generator = 0.001\n",
    "train_loss = 'binary_crossentropy'\n",
    "#train_loss = 'wasserstein_loss'\n",
    "\n",
    "rule = 'none'\n",
    "d_weight_constraint = [-.03, .03]\n",
    "g_weight_constraint = [-33.3, 33.3]\n",
    "m_weight_constraint = [-33.3, 33.3]"
   ]
  },
  {
   "cell_type": "markdown",
   "metadata": {},
   "source": [
    "# Run"
   ]
  },
  {
   "cell_type": "code",
   "execution_count": null,
   "metadata": {
    "collapsed": false,
    "scrolled": true
   },
   "outputs": [],
   "source": [
    "geom_model, morph_model, disc_model, gan_model = \\\n",
    "    train.train_model(training_data=training_data,\n",
    "                      n_nodes=n_nodes,\n",
    "                      input_dim=input_dim,\n",
    "                      n_epochs=n_epochs,\n",
    "                      batch_size=batch_size,\n",
    "                      n_batch_per_epoch=n_batch_per_epoch,\n",
    "                      d_iters=d_iters,\n",
    "                      lr_discriminator=lr_discriminator,\n",
    "                      lr_generator=lr_generator,\n",
    "                      d_weight_constraint=d_weight_constraint,\n",
    "                      g_weight_constraint=g_weight_constraint,\n",
    "                      m_weight_constraint=m_weight_constraint,\n",
    "                      rule=rule,\n",
    "                      train_loss=train_loss,\n",
    "                      verbose=True)"
   ]
  }
 ],
 "metadata": {
  "kernelspec": {
   "display_name": "Python 2",
   "language": "python",
   "name": "python2"
  },
  "language_info": {
   "codemirror_mode": {
    "name": "ipython",
    "version": 2
   },
   "file_extension": ".py",
   "mimetype": "text/x-python",
   "name": "python",
   "nbconvert_exporter": "python",
   "pygments_lexer": "ipython2",
   "version": "2.7.12"
  }
 },
 "nbformat": 4,
 "nbformat_minor": 0
}
